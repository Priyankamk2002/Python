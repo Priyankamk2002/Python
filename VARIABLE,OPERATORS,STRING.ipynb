{
 "cells": [
  {
   "cell_type": "markdown",
   "id": "cc26b347",
   "metadata": {},
   "source": [
    "# BOOLEAN "
   ]
  },
  {
   "cell_type": "code",
   "execution_count": null,
   "id": "cc02f163",
   "metadata": {},
   "outputs": [],
   "source": [
    "boolean are expression it either givr you true or false\n",
    "for True -->1\n",
    "for False --0"
   ]
  },
  {
   "cell_type": "code",
   "execution_count": 1,
   "id": "b69d2495",
   "metadata": {},
   "outputs": [
    {
     "data": {
      "text/plain": [
       "False"
      ]
     },
     "execution_count": 1,
     "metadata": {},
     "output_type": "execute_result"
    }
   ],
   "source": [
    "True and False"
   ]
  },
  {
   "cell_type": "code",
   "execution_count": 2,
   "id": "a6f6ca60",
   "metadata": {},
   "outputs": [
    {
     "data": {
      "text/plain": [
       "True"
      ]
     },
     "execution_count": 2,
     "metadata": {},
     "output_type": "execute_result"
    }
   ],
   "source": [
    "False or True and True"
   ]
  },
  {
   "cell_type": "code",
   "execution_count": 3,
   "id": "b56c419c",
   "metadata": {},
   "outputs": [],
   "source": [
    "#False -> 0 ,True ->1"
   ]
  },
  {
   "cell_type": "code",
   "execution_count": 1,
   "id": "061eabe9",
   "metadata": {},
   "outputs": [],
   "source": [
    "# = assignment , == -> condition"
   ]
  },
  {
   "cell_type": "markdown",
   "id": "15dbe530",
   "metadata": {},
   "source": [
    "# KEYWORDS"
   ]
  },
  {
   "cell_type": "markdown",
   "id": "b63547c0",
   "metadata": {},
   "source": [
    "keywords are reserved words.\n",
    "there are 32 keywords in python"
   ]
  },
  {
   "cell_type": "code",
   "execution_count": 3,
   "id": "7c83de5f",
   "metadata": {},
   "outputs": [],
   "source": [
    "import keyword as ky"
   ]
  },
  {
   "cell_type": "code",
   "execution_count": 6,
   "id": "70103643",
   "metadata": {},
   "outputs": [
    {
     "name": "stdout",
     "output_type": "stream",
     "text": [
      "['False', 'None', 'True', '__peg_parser__', 'and', 'as', 'assert', 'async', 'await', 'break', 'class', 'continue', 'def', 'del', 'elif', 'else', 'except', 'finally', 'for', 'from', 'global', 'if', 'import', 'in', 'is', 'lambda', 'nonlocal', 'not', 'or', 'pass', 'raise', 'return', 'try', 'while', 'with', 'yield']\n"
     ]
    }
   ],
   "source": [
    "print(ky.kwlist)  #list of keywords"
   ]
  },
  {
   "cell_type": "markdown",
   "id": "c98d6bc5",
   "metadata": {},
   "source": [
    "# VARIABLES"
   ]
  },
  {
   "cell_type": "raw",
   "id": "5c1cb77e",
   "metadata": {},
   "source": [
    "variable are container to store some values..\n",
    "holding our data -> variable"
   ]
  },
  {
   "cell_type": "code",
   "execution_count": null,
   "id": "0ef8c811",
   "metadata": {},
   "outputs": [],
   "source": [
    "data assignment ->  = \n",
    "variable = data\n",
    "variable = calculation/operation/logic\n",
    "\n",
    "\n",
    "RULES to define VARIABLES:\n",
    "1.start with letter or _ (alpha,numeric).\n",
    "2.it should not start with a num.\n",
    "3.try to keep lower case variable.\n",
    "4.it should not contain hypen(-).\n",
    "5.it cannot be a keyword.\n",
    "6.it should not contain any special character.\n",
    "\n",
    "ERROR : syntax error(they dont follow some guidelines),type error(data type),"
   ]
  },
  {
   "cell_type": "code",
   "execution_count": 9,
   "id": "9bdcbde2",
   "metadata": {},
   "outputs": [],
   "source": [
    "#navy-anu = navya  ## navya_anu = navya  (giving syntax error)"
   ]
  },
  {
   "cell_type": "code",
   "execution_count": 7,
   "id": "ad2dc254",
   "metadata": {},
   "outputs": [
    {
     "name": "stdout",
     "output_type": "stream",
     "text": [
      "3\n"
     ]
    }
   ],
   "source": [
    "a = 3\n",
    "b = a\n",
    "print(b)"
   ]
  },
  {
   "cell_type": "markdown",
   "id": "a6448735",
   "metadata": {},
   "source": [
    "# DATA TYPES"
   ]
  },
  {
   "cell_type": "code",
   "execution_count": null,
   "id": "b744f760",
   "metadata": {},
   "outputs": [],
   "source": [
    "Numbers : int(without decimal point),float(with decimal point),complex(2+3j)\n",
    "string  : text type(inside quotes 'hoo',\"hoo\",\"\"\"hoooo\"\"\"(documentation purpose))\n"
   ]
  },
  {
   "cell_type": "code",
   "execution_count": 10,
   "id": "767c3366",
   "metadata": {},
   "outputs": [
    {
     "name": "stdout",
     "output_type": "stream",
     "text": [
      "<class 'int'>\n"
     ]
    }
   ],
   "source": [
    "#how to check the data type : with the help of type(variable) function\n",
    "x = 20\n",
    "print(type(x))"
   ]
  },
  {
   "cell_type": "code",
   "execution_count": 12,
   "id": "d064001c",
   "metadata": {},
   "outputs": [
    {
     "data": {
      "text/plain": [
       "55"
      ]
     },
     "execution_count": 12,
     "metadata": {},
     "output_type": "execute_result"
    }
   ],
   "source": [
    "x = 20\n",
    "y = 35\n",
    "z = x+y\n",
    "z"
   ]
  },
  {
   "cell_type": "code",
   "execution_count": 14,
   "id": "da099173",
   "metadata": {},
   "outputs": [
    {
     "name": "stdout",
     "output_type": "stream",
     "text": [
      "34\n",
      "45\n"
     ]
    }
   ],
   "source": [
    "x,y =34,45\n",
    "print(x)\n",
    "print(y)"
   ]
  },
  {
   "cell_type": "code",
   "execution_count": 16,
   "id": "8dc699d6",
   "metadata": {},
   "outputs": [
    {
     "data": {
      "text/plain": [
       "35"
      ]
     },
     "execution_count": 16,
     "metadata": {},
     "output_type": "execute_result"
    }
   ],
   "source": [
    "age = 25\n",
    "xy = age + int(\"10\")# conver string to an int \n",
    "xy"
   ]
  },
  {
   "cell_type": "code",
   "execution_count": 19,
   "id": "faeb9c61",
   "metadata": {},
   "outputs": [
    {
     "data": {
      "text/plain": [
       "'python is simple and easy to learn '"
      ]
     },
     "execution_count": 19,
     "metadata": {},
     "output_type": "execute_result"
    }
   ],
   "source": [
    "# string vs string\n",
    "x = \"python\"\n",
    "y = \" is simple and easy to learn \"\n",
    "z = x + y\n",
    "z"
   ]
  },
  {
   "cell_type": "code",
   "execution_count": 20,
   "id": "59b0f64b",
   "metadata": {},
   "outputs": [
    {
     "name": "stdout",
     "output_type": "stream",
     "text": [
      "python is a a programming lang\n"
     ]
    }
   ],
   "source": [
    "print(\"python is a a programming lang\")"
   ]
  },
  {
   "cell_type": "code",
   "execution_count": 22,
   "id": "e4aa3886",
   "metadata": {},
   "outputs": [
    {
     "name": "stdout",
     "output_type": "stream",
     "text": [
      "python  is simple and easy to learn \n"
     ]
    }
   ],
   "source": [
    "print(x,y)"
   ]
  },
  {
   "cell_type": "code",
   "execution_count": 23,
   "id": "315af343",
   "metadata": {},
   "outputs": [
    {
     "name": "stdout",
     "output_type": "stream",
     "text": [
      "&&&&&&&&&&&&&&&&&&&&&&&&&&&&&&&&&&&&&&&&\n"
     ]
    }
   ],
   "source": [
    "print(\"&\"*40)  \n",
    "# print 40 times of &"
   ]
  },
  {
   "cell_type": "code",
   "execution_count": 26,
   "id": "4491aded",
   "metadata": {},
   "outputs": [
    {
     "data": {
      "text/plain": [
       "'age is 20'"
      ]
     },
     "execution_count": 26,
     "metadata": {},
     "output_type": "execute_result"
    }
   ],
   "source": [
    "x = 20  \n",
    "y = 'age is '\n",
    "z = y + str(x)  # convert int to string is possible\n",
    "z"
   ]
  },
  {
   "cell_type": "markdown",
   "id": "d072e6f0",
   "metadata": {},
   "source": [
    "# OPERATORS"
   ]
  },
  {
   "cell_type": "raw",
   "id": "30ac3d28",
   "metadata": {},
   "source": [
    "1.Airtmetic ope : +,-,*,/(ADD,SUB,MUL,DIVISION),MOD(%)(op : remainder),Floor(//)(Forward slash)(ans : Quotient) trick : MR , FQ"
   ]
  },
  {
   "cell_type": "code",
   "execution_count": 3,
   "id": "52f2bec0",
   "metadata": {},
   "outputs": [
    {
     "name": "stdout",
     "output_type": "stream",
     "text": [
      "80\n",
      "10\n",
      "1575\n",
      "1.2857142857142858\n",
      "10\n",
      "1\n"
     ]
    }
   ],
   "source": [
    "a = 45\n",
    "b = 35\n",
    "c = a + b\n",
    "d = a - b\n",
    "e = a * b\n",
    "f = a / b\n",
    "g = a % b\n",
    "h = a // b\n",
    "print(c)\n",
    "print(d)\n",
    "print(e)\n",
    "print(f)\n",
    "print(g)\n",
    "print(h)"
   ]
  },
  {
   "cell_type": "raw",
   "id": "de67d777",
   "metadata": {},
   "source": [
    "2.Membership operator : in,not in  (op : Boolean form)"
   ]
  },
  {
   "cell_type": "code",
   "execution_count": 49,
   "id": "53bdf658",
   "metadata": {},
   "outputs": [
    {
     "data": {
      "text/plain": [
       "True"
      ]
     },
     "execution_count": 49,
     "metadata": {},
     "output_type": "execute_result"
    }
   ],
   "source": [
    "a = [1,2,3,4,5,6,7]\n",
    "1 in a"
   ]
  },
  {
   "cell_type": "code",
   "execution_count": 50,
   "id": "55d1213a",
   "metadata": {},
   "outputs": [
    {
     "data": {
      "text/plain": [
       "False"
      ]
     },
     "execution_count": 50,
     "metadata": {},
     "output_type": "execute_result"
    }
   ],
   "source": [
    "1 not in a"
   ]
  },
  {
   "cell_type": "code",
   "execution_count": 54,
   "id": "d3e86b40",
   "metadata": {},
   "outputs": [
    {
     "data": {
      "text/plain": [
       "False"
      ]
     },
     "execution_count": 54,
     "metadata": {},
     "output_type": "execute_result"
    }
   ],
   "source": [
    "(1+ 7) in a"
   ]
  },
  {
   "cell_type": "code",
   "execution_count": 55,
   "id": "2449dd01",
   "metadata": {},
   "outputs": [
    {
     "data": {
      "text/plain": [
       "False"
      ]
     },
     "execution_count": 55,
     "metadata": {},
     "output_type": "execute_result"
    }
   ],
   "source": [
    "(7 - 2) not in a"
   ]
  },
  {
   "cell_type": "raw",
   "id": "7742562c",
   "metadata": {},
   "source": [
    "3.Assignment operator : =,+=,-=,//=,%=,*="
   ]
  },
  {
   "cell_type": "code",
   "execution_count": 4,
   "id": "f9f96b5a",
   "metadata": {},
   "outputs": [
    {
     "data": {
      "text/plain": [
       "76"
      ]
     },
     "execution_count": 4,
     "metadata": {},
     "output_type": "execute_result"
    }
   ],
   "source": [
    "x = 20\n",
    "x+=56  # x+56\n",
    "x"
   ]
  },
  {
   "cell_type": "code",
   "execution_count": 5,
   "id": "6a3fe96e",
   "metadata": {},
   "outputs": [
    {
     "data": {
      "text/plain": [
       "66"
      ]
     },
     "execution_count": 5,
     "metadata": {},
     "output_type": "execute_result"
    }
   ],
   "source": [
    "x-=10\n",
    "x"
   ]
  },
  {
   "cell_type": "code",
   "execution_count": 7,
   "id": "335b8d4e",
   "metadata": {},
   "outputs": [
    {
     "data": {
      "text/plain": [
       "264"
      ]
     },
     "execution_count": 7,
     "metadata": {},
     "output_type": "execute_result"
    }
   ],
   "source": [
    "x*=2\n",
    "x"
   ]
  },
  {
   "cell_type": "code",
   "execution_count": 8,
   "id": "607140b7",
   "metadata": {},
   "outputs": [
    {
     "data": {
      "text/plain": [
       "88.0"
      ]
     },
     "execution_count": 8,
     "metadata": {},
     "output_type": "execute_result"
    }
   ],
   "source": [
    "x/=3\n",
    "x"
   ]
  },
  {
   "cell_type": "code",
   "execution_count": 10,
   "id": "36120433",
   "metadata": {},
   "outputs": [
    {
     "data": {
      "text/plain": [
       "5.0"
      ]
     },
     "execution_count": 10,
     "metadata": {},
     "output_type": "execute_result"
    }
   ],
   "source": [
    "x//=4\n",
    "x"
   ]
  },
  {
   "cell_type": "raw",
   "id": "7ed5cfa5",
   "metadata": {},
   "source": [
    "4.comparision ope : <,>,<=,>=,=,==,!=  (op : boolean)"
   ]
  },
  {
   "cell_type": "code",
   "execution_count": 14,
   "id": "5a0d13c2",
   "metadata": {},
   "outputs": [
    {
     "name": "stdout",
     "output_type": "stream",
     "text": [
      "False\n",
      "True\n",
      "False\n",
      "True\n",
      "False\n",
      "True\n"
     ]
    }
   ],
   "source": [
    "a = 56\n",
    "b = 789\n",
    "c = a>b\n",
    "d = a<b\n",
    "e = a>=b\n",
    "f = a<=b\n",
    "g = a==b\n",
    "h = a!=b\n",
    "print(c)\n",
    "print(d)\n",
    "print(e)\n",
    "print(f)\n",
    "print(g)\n",
    "print(h)"
   ]
  },
  {
   "cell_type": "raw",
   "id": "b795cbdb",
   "metadata": {},
   "source": [
    "5.Logical operator : and (both side are true),or(either one side is true) ,not"
   ]
  },
  {
   "cell_type": "code",
   "execution_count": 2,
   "id": "1b5181f5",
   "metadata": {},
   "outputs": [
    {
     "name": "stdout",
     "output_type": "stream",
     "text": [
      "456\n",
      "345\n"
     ]
    }
   ],
   "source": [
    "a = 345\n",
    "b =456\n",
    "c =a and b\n",
    "print(c)\n",
    "d = a or b\n",
    "print(d)"
   ]
  },
  {
   "cell_type": "code",
   "execution_count": 3,
   "id": "582b3a5d",
   "metadata": {},
   "outputs": [
    {
     "data": {
      "text/plain": [
       "False"
      ]
     },
     "execution_count": 3,
     "metadata": {},
     "output_type": "execute_result"
    }
   ],
   "source": [
    "a>b and a<b"
   ]
  },
  {
   "cell_type": "code",
   "execution_count": 23,
   "id": "ad80c552",
   "metadata": {},
   "outputs": [
    {
     "data": {
      "text/plain": [
       "True"
      ]
     },
     "execution_count": 23,
     "metadata": {},
     "output_type": "execute_result"
    }
   ],
   "source": [
    "a>b or a<b #comparision oper"
   ]
  },
  {
   "cell_type": "code",
   "execution_count": 37,
   "id": "80c9766a",
   "metadata": {},
   "outputs": [
    {
     "data": {
      "text/plain": [
       "False"
      ]
     },
     "execution_count": 37,
     "metadata": {},
     "output_type": "execute_result"
    }
   ],
   "source": [
    "not a  # "
   ]
  },
  {
   "cell_type": "code",
   "execution_count": 38,
   "id": "587dd429",
   "metadata": {},
   "outputs": [
    {
     "data": {
      "text/plain": [
       "False"
      ]
     },
     "execution_count": 38,
     "metadata": {},
     "output_type": "execute_result"
    }
   ],
   "source": [
    "not True"
   ]
  },
  {
   "cell_type": "code",
   "execution_count": 39,
   "id": "616248a0",
   "metadata": {},
   "outputs": [
    {
     "data": {
      "text/plain": [
       "True"
      ]
     },
     "execution_count": 39,
     "metadata": {},
     "output_type": "execute_result"
    }
   ],
   "source": [
    "not False"
   ]
  },
  {
   "cell_type": "code",
   "execution_count": 28,
   "id": "beaf6e25",
   "metadata": {},
   "outputs": [
    {
     "data": {
      "text/plain": [
       "55"
      ]
     },
     "execution_count": 28,
     "metadata": {},
     "output_type": "execute_result"
    }
   ],
   "source": [
    "x = 25\n",
    "y =30\n",
    "z =50\n",
    "x+y and z+5  # Airthmetic operators"
   ]
  },
  {
   "cell_type": "code",
   "execution_count": 31,
   "id": "89290b0d",
   "metadata": {},
   "outputs": [
    {
     "data": {
      "text/plain": [
       "55"
      ]
     },
     "execution_count": 31,
     "metadata": {},
     "output_type": "execute_result"
    }
   ],
   "source": [
    "x + y and y+x  # y+x already updated before"
   ]
  },
  {
   "cell_type": "code",
   "execution_count": 33,
   "id": "5a523a0e",
   "metadata": {},
   "outputs": [
    {
     "data": {
      "text/plain": [
       "75"
      ]
     },
     "execution_count": 33,
     "metadata": {},
     "output_type": "execute_result"
    }
   ],
   "source": [
    "(x + z) or (y + x)  #does not evaluate the second part (y + x) at all — this is called short-circuit evaluation."
   ]
  },
  {
   "cell_type": "code",
   "execution_count": 36,
   "id": "e33a6dd9",
   "metadata": {},
   "outputs": [
    {
     "data": {
      "text/plain": [
       "True"
      ]
     },
     "execution_count": 36,
     "metadata": {},
     "output_type": "execute_result"
    }
   ],
   "source": [
    "x = 25\n",
    "y =30\n",
    "z =50\n",
    "x!=y or x<z"
   ]
  },
  {
   "cell_type": "code",
   "execution_count": 40,
   "id": "73c3acc7",
   "metadata": {},
   "outputs": [
    {
     "data": {
      "text/plain": [
       "False"
      ]
     },
     "execution_count": 40,
     "metadata": {},
     "output_type": "execute_result"
    }
   ],
   "source": [
    "not (x<y or x>z)"
   ]
  },
  {
   "cell_type": "raw",
   "id": "11393407",
   "metadata": {},
   "source": [
    "6.Identity oper : is(comparing), is not(reverse the decision) (op : Boolean form)"
   ]
  },
  {
   "cell_type": "code",
   "execution_count": 43,
   "id": "b6c95d13",
   "metadata": {},
   "outputs": [
    {
     "data": {
      "text/plain": [
       "False"
      ]
     },
     "execution_count": 43,
     "metadata": {},
     "output_type": "execute_result"
    }
   ],
   "source": [
    "z = 20\n",
    "t = 90\n",
    "z is t  ## or z == t (operator is different)"
   ]
  },
  {
   "cell_type": "code",
   "execution_count": 44,
   "id": "b3a4e50c",
   "metadata": {},
   "outputs": [
    {
     "data": {
      "text/plain": [
       "True"
      ]
     },
     "execution_count": 44,
     "metadata": {},
     "output_type": "execute_result"
    }
   ],
   "source": [
    "z is not t  #!= "
   ]
  },
  {
   "cell_type": "code",
   "execution_count": 45,
   "id": "771b58db",
   "metadata": {},
   "outputs": [
    {
     "name": "stderr",
     "output_type": "stream",
     "text": [
      "<>:1: SyntaxWarning: \"is\" with a literal. Did you mean \"==\"?\n",
      "<>:1: SyntaxWarning: \"is\" with a literal. Did you mean \"==\"?\n",
      "C:\\Users\\USER\\AppData\\Local\\Temp\\ipykernel_32000\\1152792920.py:1: SyntaxWarning: \"is\" with a literal. Did you mean \"==\"?\n",
      "  25 is 25\n"
     ]
    },
    {
     "data": {
      "text/plain": [
       "True"
      ]
     },
     "execution_count": 45,
     "metadata": {},
     "output_type": "execute_result"
    }
   ],
   "source": [
    "25 is 25  # we should have variables "
   ]
  },
  {
   "cell_type": "code",
   "execution_count": 46,
   "id": "c60d37a1",
   "metadata": {},
   "outputs": [
    {
     "data": {
      "text/plain": [
       "True"
      ]
     },
     "execution_count": 46,
     "metadata": {},
     "output_type": "execute_result"
    }
   ],
   "source": [
    "25 == 25"
   ]
  },
  {
   "cell_type": "markdown",
   "id": "6ad91edf",
   "metadata": {},
   "source": [
    "# STRINGS OPERATIONS"
   ]
  },
  {
   "cell_type": "code",
   "execution_count": null,
   "id": "e6cc8359",
   "metadata": {},
   "outputs": [],
   "source": [
    "indexing : position of the data\n",
    "it start's from 0,1,2,3,4,5 .......n \n",
    "by default python will follow +ve indexing\n",
    " P   R   I   Y    A\n",
    "-5   -4  -3  -2  -1\n",
    "\n",
    "string.index[\"data\"]"
   ]
  },
  {
   "cell_type": "code",
   "execution_count": null,
   "id": "d5f2ef4b",
   "metadata": {},
   "outputs": [],
   "source": [
    "why string operations imp?\n",
    "text procesing\n",
    "web scraping\n",
    "\n",
    "use of indexing : where we can see unique values\n",
    "Aadhar numbers\n",
    "Passport numbers\n",
    "Bank account \n",
    "Phone number"
   ]
  },
  {
   "cell_type": "code",
   "execution_count": null,
   "id": "ac298937",
   "metadata": {},
   "outputs": [],
   "source": [
    "Limitations :\n",
    "\n"
   ]
  },
  {
   "cell_type": "code",
   "execution_count": 1,
   "id": "8a8732dd",
   "metadata": {},
   "outputs": [
    {
     "data": {
      "text/plain": [
       "'p'"
      ]
     },
     "execution_count": 1,
     "metadata": {},
     "output_type": "execute_result"
    }
   ],
   "source": [
    "a = \"priyanka Mk\"\n",
    "a[0]"
   ]
  },
  {
   "cell_type": "code",
   "execution_count": 2,
   "id": "8e478054",
   "metadata": {},
   "outputs": [
    {
     "data": {
      "text/plain": [
       "' '"
      ]
     },
     "execution_count": 2,
     "metadata": {},
     "output_type": "execute_result"
    }
   ],
   "source": [
    "a[8]"
   ]
  },
  {
   "cell_type": "code",
   "execution_count": 3,
   "id": "bee0dde8",
   "metadata": {},
   "outputs": [
    {
     "data": {
      "text/plain": [
       "'k'"
      ]
     },
     "execution_count": 3,
     "metadata": {},
     "output_type": "execute_result"
    }
   ],
   "source": [
    "a[-1]"
   ]
  },
  {
   "cell_type": "code",
   "execution_count": 4,
   "id": "63ef117f",
   "metadata": {},
   "outputs": [
    {
     "data": {
      "text/plain": [
       "' '"
      ]
     },
     "execution_count": 4,
     "metadata": {},
     "output_type": "execute_result"
    }
   ],
   "source": [
    "a[-3]"
   ]
  },
  {
   "cell_type": "code",
   "execution_count": 10,
   "id": "27a4f3c5",
   "metadata": {},
   "outputs": [],
   "source": [
    "word = \"Innomatics\""
   ]
  },
  {
   "cell_type": "code",
   "execution_count": 11,
   "id": "0840d836",
   "metadata": {},
   "outputs": [
    {
     "data": {
      "text/plain": [
       "'I'"
      ]
     },
     "execution_count": 11,
     "metadata": {},
     "output_type": "execute_result"
    }
   ],
   "source": [
    "word[0]"
   ]
  },
  {
   "cell_type": "code",
   "execution_count": 12,
   "id": "fc65eb4f",
   "metadata": {},
   "outputs": [
    {
     "data": {
      "text/plain": [
       "1"
      ]
     },
     "execution_count": 12,
     "metadata": {},
     "output_type": "execute_result"
    }
   ],
   "source": [
    "word.index(\"n\")  # "
   ]
  },
  {
   "cell_type": "code",
   "execution_count": 13,
   "id": "240bcef3",
   "metadata": {},
   "outputs": [
    {
     "data": {
      "text/plain": [
       "5"
      ]
     },
     "execution_count": 13,
     "metadata": {},
     "output_type": "execute_result"
    }
   ],
   "source": [
    "word.index(\"a\") "
   ]
  },
  {
   "cell_type": "code",
   "execution_count": null,
   "id": "90518bd1",
   "metadata": {},
   "outputs": [],
   "source": [
    "Slicing : fetch Rangs of data in sequentially\n",
    "range means in between (starting num(include): ending num(exclude)) ending point not consider(n-1)"
   ]
  },
  {
   "cell_type": "code",
   "execution_count": null,
   "id": "5382a4f7",
   "metadata": {},
   "outputs": [],
   "source": [
    "use cases :\n",
    "data analysis : extract particular row and column\n",
    "validating : enter only num or spacial characte\n"
   ]
  },
  {
   "cell_type": "code",
   "execution_count": 18,
   "id": "ef67439c",
   "metadata": {},
   "outputs": [
    {
     "data": {
      "text/plain": [
       "'priy'"
      ]
     },
     "execution_count": 18,
     "metadata": {},
     "output_type": "execute_result"
    }
   ],
   "source": [
    "a = \"priyanka\"\n",
    "a[0:4]"
   ]
  },
  {
   "cell_type": "code",
   "execution_count": 19,
   "id": "4c0c87e2",
   "metadata": {},
   "outputs": [
    {
     "data": {
      "text/plain": [
       "'priya'"
      ]
     },
     "execution_count": 19,
     "metadata": {},
     "output_type": "execute_result"
    }
   ],
   "source": [
    "a[:5]  # by default it starts from 0"
   ]
  },
  {
   "cell_type": "code",
   "execution_count": 20,
   "id": "70489678",
   "metadata": {},
   "outputs": [
    {
     "data": {
      "text/plain": [
       "'anka'"
      ]
     },
     "execution_count": 20,
     "metadata": {},
     "output_type": "execute_result"
    }
   ],
   "source": [
    "a[4:]  #it will give entire data"
   ]
  },
  {
   "cell_type": "code",
   "execution_count": 24,
   "id": "870d0ae8",
   "metadata": {},
   "outputs": [
    {
     "data": {
      "text/plain": [
       "'a'"
      ]
     },
     "execution_count": 24,
     "metadata": {},
     "output_type": "execute_result"
    }
   ],
   "source": [
    "a[-1]"
   ]
  },
  {
   "cell_type": "code",
   "execution_count": 25,
   "id": "3def96de",
   "metadata": {},
   "outputs": [
    {
     "data": {
      "text/plain": [
       "'nk'"
      ]
     },
     "execution_count": 25,
     "metadata": {},
     "output_type": "execute_result"
    }
   ],
   "source": [
    "a[-3:-1]  #reversing"
   ]
  },
  {
   "cell_type": "code",
   "execution_count": 26,
   "id": "899b8717",
   "metadata": {},
   "outputs": [
    {
     "data": {
      "text/plain": [
       "'Innomatics'"
      ]
     },
     "execution_count": 26,
     "metadata": {},
     "output_type": "execute_result"
    }
   ],
   "source": [
    "word"
   ]
  },
  {
   "cell_type": "code",
   "execution_count": 27,
   "id": "3c73508b",
   "metadata": {},
   "outputs": [
    {
     "data": {
      "text/plain": [
       "'no'"
      ]
     },
     "execution_count": 27,
     "metadata": {},
     "output_type": "execute_result"
    }
   ],
   "source": [
    "word[2:4]"
   ]
  },
  {
   "cell_type": "code",
   "execution_count": 28,
   "id": "c290bebb",
   "metadata": {},
   "outputs": [
    {
     "data": {
      "text/plain": [
       "'atics'"
      ]
     },
     "execution_count": 28,
     "metadata": {},
     "output_type": "execute_result"
    }
   ],
   "source": [
    "word[5:] #starts from 5 and go until last"
   ]
  },
  {
   "cell_type": "code",
   "execution_count": 29,
   "id": "532c4960",
   "metadata": {},
   "outputs": [
    {
     "data": {
      "text/plain": [
       "'Innomat'"
      ]
     },
     "execution_count": 29,
     "metadata": {},
     "output_type": "execute_result"
    }
   ],
   "source": [
    "word[:7]"
   ]
  },
  {
   "cell_type": "code",
   "execution_count": null,
   "id": "a95402c0",
   "metadata": {},
   "outputs": [],
   "source": [
    "slicing with step size\n",
    "[start:ending:step size()]"
   ]
  },
  {
   "cell_type": "code",
   "execution_count": 30,
   "id": "cc8d0992",
   "metadata": {},
   "outputs": [
    {
     "data": {
      "text/plain": [
       "[1, 3, 5, 7, 9]"
      ]
     },
     "execution_count": 30,
     "metadata": {},
     "output_type": "execute_result"
    }
   ],
   "source": [
    "a = [1,2,3,4,5,6,7,8,9,10,11,12,13,14]\n",
    "a[0:10:2]"
   ]
  },
  {
   "cell_type": "code",
   "execution_count": 31,
   "id": "f209f1dd",
   "metadata": {},
   "outputs": [
    {
     "data": {
      "text/plain": [
       "[1, 3, 5, 7, 9, 11, 13]"
      ]
     },
     "execution_count": 31,
     "metadata": {},
     "output_type": "execute_result"
    }
   ],
   "source": [
    "a[::2]"
   ]
  },
  {
   "cell_type": "code",
   "execution_count": 33,
   "id": "6b31af17",
   "metadata": {},
   "outputs": [
    {
     "data": {
      "text/plain": [
       "'Inmtc'"
      ]
     },
     "execution_count": 33,
     "metadata": {},
     "output_type": "execute_result"
    }
   ],
   "source": [
    "word[::2]"
   ]
  },
  {
   "cell_type": "code",
   "execution_count": 34,
   "id": "2bdad397",
   "metadata": {},
   "outputs": [
    {
     "data": {
      "text/plain": [
       "'Innomatics'"
      ]
     },
     "execution_count": 34,
     "metadata": {},
     "output_type": "execute_result"
    }
   ],
   "source": [
    "word"
   ]
  },
  {
   "cell_type": "code",
   "execution_count": 40,
   "id": "ac808edd",
   "metadata": {},
   "outputs": [
    {
     "data": {
      "text/plain": [
       "'nmi'"
      ]
     },
     "execution_count": 40,
     "metadata": {},
     "output_type": "execute_result"
    }
   ],
   "source": [
    "word[1::3]  #nmi"
   ]
  },
  {
   "cell_type": "code",
   "execution_count": 41,
   "id": "cbc5ae16",
   "metadata": {},
   "outputs": [
    {
     "data": {
      "text/plain": [
       "'oai'"
      ]
     },
     "execution_count": 41,
     "metadata": {},
     "output_type": "execute_result"
    }
   ],
   "source": [
    "word[3:8:2]   #"
   ]
  },
  {
   "cell_type": "code",
   "execution_count": 44,
   "id": "a24b8c31",
   "metadata": {},
   "outputs": [
    {
     "data": {
      "text/plain": [
       "'nmtc'"
      ]
     },
     "execution_count": 44,
     "metadata": {},
     "output_type": "execute_result"
    }
   ],
   "source": [
    "word[-8:-1:2]"
   ]
  },
  {
   "cell_type": "code",
   "execution_count": 45,
   "id": "ab765266",
   "metadata": {},
   "outputs": [
    {
     "data": {
      "text/plain": [
       "'nomatic'"
      ]
     },
     "execution_count": 45,
     "metadata": {},
     "output_type": "execute_result"
    }
   ],
   "source": [
    "word[-8:-1:1]"
   ]
  },
  {
   "cell_type": "code",
   "execution_count": 46,
   "id": "dff6d15e",
   "metadata": {},
   "outputs": [
    {
     "data": {
      "text/plain": [
       "'scitamonnI'"
      ]
     },
     "execution_count": 46,
     "metadata": {},
     "output_type": "execute_result"
    }
   ],
   "source": [
    "word[::-1]"
   ]
  },
  {
   "cell_type": "code",
   "execution_count": 48,
   "id": "a738c1d0",
   "metadata": {},
   "outputs": [
    {
     "data": {
      "text/plain": [
       "'Research Lab'"
      ]
     },
     "execution_count": 48,
     "metadata": {},
     "output_type": "execute_result"
    }
   ],
   "source": [
    "a = \"Innomatics Research Lab\"\n",
    "a[11:]"
   ]
  },
  {
   "cell_type": "code",
   "execution_count": 49,
   "id": "a5b4f795",
   "metadata": {},
   "outputs": [
    {
     "data": {
      "text/plain": [
       "'Innomatics'"
      ]
     },
     "execution_count": 49,
     "metadata": {},
     "output_type": "execute_result"
    }
   ],
   "source": [
    "word"
   ]
  },
  {
   "cell_type": "code",
   "execution_count": 51,
   "id": "ba1e6fc0",
   "metadata": {},
   "outputs": [],
   "source": [
    "word = \"Shankar\""
   ]
  },
  {
   "cell_type": "code",
   "execution_count": 54,
   "id": "3c8f4512",
   "metadata": {},
   "outputs": [
    {
     "data": {
      "text/plain": [
       "'Shanka'"
      ]
     },
     "execution_count": 54,
     "metadata": {},
     "output_type": "execute_result"
    }
   ],
   "source": [
    "word[-7:-1:1]"
   ]
  },
  {
   "cell_type": "code",
   "execution_count": 55,
   "id": "422968c9",
   "metadata": {},
   "outputs": [
    {
     "data": {
      "text/plain": [
       "'priyanka mk'"
      ]
     },
     "execution_count": 55,
     "metadata": {},
     "output_type": "execute_result"
    }
   ],
   "source": [
    "a = \"priyanka Mk\"\n",
    "a.lower()"
   ]
  },
  {
   "cell_type": "code",
   "execution_count": 56,
   "id": "84967fbc",
   "metadata": {},
   "outputs": [
    {
     "data": {
      "text/plain": [
       "['priyanka', 'Mk']"
      ]
     },
     "execution_count": 56,
     "metadata": {},
     "output_type": "execute_result"
    }
   ],
   "source": [
    "a.split()"
   ]
  },
  {
   "cell_type": "code",
   "execution_count": 57,
   "id": "f3fc38f3",
   "metadata": {},
   "outputs": [
    {
     "data": {
      "text/plain": [
       "'PRIYANKA MK'"
      ]
     },
     "execution_count": 57,
     "metadata": {},
     "output_type": "execute_result"
    }
   ],
   "source": [
    "a.upper()"
   ]
  },
  {
   "cell_type": "code",
   "execution_count": 61,
   "id": "e474f7f6",
   "metadata": {},
   "outputs": [
    {
     "data": {
      "text/plain": [
       "True"
      ]
     },
     "execution_count": 61,
     "metadata": {},
     "output_type": "execute_result"
    }
   ],
   "source": [
    "a.endswith(a)"
   ]
  },
  {
   "cell_type": "code",
   "execution_count": 65,
   "id": "146328a3",
   "metadata": {},
   "outputs": [
    {
     "data": {
      "text/plain": [
       "'Priyanka Mk'"
      ]
     },
     "execution_count": 65,
     "metadata": {},
     "output_type": "execute_result"
    }
   ],
   "source": [
    "a.title()"
   ]
  },
  {
   "cell_type": "code",
   "execution_count": 67,
   "id": "ce8fa5c7",
   "metadata": {},
   "outputs": [],
   "source": [
    "word = \"Innomatics\""
   ]
  },
  {
   "cell_type": "code",
   "execution_count": 70,
   "id": "97970a36",
   "metadata": {},
   "outputs": [
    {
     "data": {
      "text/plain": [
       "'INNOMATICS'"
      ]
     },
     "execution_count": 70,
     "metadata": {},
     "output_type": "execute_result"
    }
   ],
   "source": [
    "a = word.upper()\n",
    "a"
   ]
  },
  {
   "cell_type": "code",
   "execution_count": 71,
   "id": "757b7ec2",
   "metadata": {},
   "outputs": [
    {
     "data": {
      "text/plain": [
       "'innomatics'"
      ]
     },
     "execution_count": 71,
     "metadata": {},
     "output_type": "execute_result"
    }
   ],
   "source": [
    "b = word.lower()\n",
    "b"
   ]
  },
  {
   "cell_type": "code",
   "execution_count": 75,
   "id": "50afb355",
   "metadata": {},
   "outputs": [
    {
     "data": {
      "text/plain": [
       "1"
      ]
     },
     "execution_count": 75,
     "metadata": {},
     "output_type": "execute_result"
    }
   ],
   "source": [
    "c = word.count(word)  # count the occurance\n",
    "c"
   ]
  },
  {
   "cell_type": "code",
   "execution_count": 77,
   "id": "c2fca65c",
   "metadata": {},
   "outputs": [
    {
     "data": {
      "text/plain": [
       "'Innomatics'"
      ]
     },
     "execution_count": 77,
     "metadata": {},
     "output_type": "execute_result"
    }
   ],
   "source": [
    "d = word.capitalize()\n",
    "d"
   ]
  },
  {
   "cell_type": "code",
   "execution_count": 82,
   "id": "3637d62d",
   "metadata": {},
   "outputs": [
    {
     "data": {
      "text/plain": [
       "True"
      ]
     },
     "execution_count": 82,
     "metadata": {},
     "output_type": "execute_result"
    }
   ],
   "source": [
    "e = word.isalnum()\n",
    "e"
   ]
  },
  {
   "cell_type": "code",
   "execution_count": 84,
   "id": "a64be1bf",
   "metadata": {},
   "outputs": [
    {
     "data": {
      "text/plain": [
       "True"
      ]
     },
     "execution_count": 84,
     "metadata": {},
     "output_type": "execute_result"
    }
   ],
   "source": [
    "f = word.isalpha()\n",
    "f"
   ]
  },
  {
   "cell_type": "code",
   "execution_count": 86,
   "id": "80a78076",
   "metadata": {},
   "outputs": [
    {
     "data": {
      "text/plain": [
       "False"
      ]
     },
     "execution_count": 86,
     "metadata": {},
     "output_type": "execute_result"
    }
   ],
   "source": [
    "g = word.isdecimal()\n",
    "g"
   ]
  },
  {
   "cell_type": "code",
   "execution_count": 87,
   "id": "672cd5b6",
   "metadata": {},
   "outputs": [
    {
     "data": {
      "text/plain": [
       "10"
      ]
     },
     "execution_count": 87,
     "metadata": {},
     "output_type": "execute_result"
    }
   ],
   "source": [
    "len(word)"
   ]
  },
  {
   "cell_type": "code",
   "execution_count": 90,
   "id": "1086a2c8",
   "metadata": {},
   "outputs": [
    {
     "data": {
      "text/plain": [
       "3"
      ]
     },
     "execution_count": 90,
     "metadata": {},
     "output_type": "execute_result"
    }
   ],
   "source": [
    "#can we check length of int directly\n",
    "x =123       # hint :int can convert into string then only we can find out len of string\n",
    "len(str(x))"
   ]
  },
  {
   "cell_type": "code",
   "execution_count": 99,
   "id": "9b1715b3",
   "metadata": {},
   "outputs": [
    {
     "data": {
      "text/plain": [
       "'   innomatics research lab '"
      ]
     },
     "execution_count": 99,
     "metadata": {},
     "output_type": "execute_result"
    }
   ],
   "source": [
    "word_2 = \"   Innomatics research lab \"   #\n",
    "word_2.capitalize()"
   ]
  },
  {
   "cell_type": "code",
   "execution_count": 95,
   "id": "87064106",
   "metadata": {},
   "outputs": [
    {
     "data": {
      "text/plain": [
       "'Innomatics Research Lab'"
      ]
     },
     "execution_count": 95,
     "metadata": {},
     "output_type": "execute_result"
    }
   ],
   "source": [
    "word_2.title()"
   ]
  },
  {
   "cell_type": "code",
   "execution_count": 100,
   "id": "0e8a003d",
   "metadata": {},
   "outputs": [
    {
     "data": {
      "text/plain": [
       "'Innomatics research lab '"
      ]
     },
     "execution_count": 100,
     "metadata": {},
     "output_type": "execute_result"
    }
   ],
   "source": [
    "word_2.lstrip()   #it removes starting and end point space"
   ]
  },
  {
   "cell_type": "code",
   "execution_count": 103,
   "id": "1b73a189",
   "metadata": {},
   "outputs": [
    {
     "data": {
      "text/plain": [
       "'   Innomatics research Lab '"
      ]
     },
     "execution_count": 103,
     "metadata": {},
     "output_type": "execute_result"
    }
   ],
   "source": [
    "#replace\n",
    "word_2.replace(\"lab\",\"Lab\")  # it replace the text orginal and new one "
   ]
  },
  {
   "cell_type": "code",
   "execution_count": 104,
   "id": "a5139a09",
   "metadata": {},
   "outputs": [
    {
     "data": {
      "text/plain": [
       "False"
      ]
     },
     "execution_count": 104,
     "metadata": {},
     "output_type": "execute_result"
    }
   ],
   "source": [
    "word_2.isspace()"
   ]
  },
  {
   "cell_type": "code",
   "execution_count": 105,
   "id": "38ef6784",
   "metadata": {},
   "outputs": [],
   "source": [
    "word_2 = word_2.title()"
   ]
  },
  {
   "cell_type": "code",
   "execution_count": 106,
   "id": "b3055e7a",
   "metadata": {},
   "outputs": [
    {
     "data": {
      "text/plain": [
       "'   Innomatics Research Lab '"
      ]
     },
     "execution_count": 106,
     "metadata": {},
     "output_type": "execute_result"
    }
   ],
   "source": [
    "word_2"
   ]
  },
  {
   "cell_type": "code",
   "execution_count": 107,
   "id": "478cf614",
   "metadata": {},
   "outputs": [],
   "source": [
    "word_2 = word_2.strip()"
   ]
  },
  {
   "cell_type": "raw",
   "id": "d8ff67a7",
   "metadata": {},
   "source": [
    "word_2"
   ]
  },
  {
   "cell_type": "code",
   "execution_count": 111,
   "id": "97e2484a",
   "metadata": {},
   "outputs": [
    {
     "data": {
      "text/plain": [
       "'Innomatics Reserach lab'"
      ]
     },
     "execution_count": 111,
     "metadata": {},
     "output_type": "execute_result"
    }
   ],
   "source": [
    "a = 'Innomatics      Reserach lab'\n",
    "a.replace('      ',' ')"
   ]
  },
  {
   "cell_type": "code",
   "execution_count": 117,
   "id": "f8dd4009",
   "metadata": {},
   "outputs": [
    {
     "data": {
      "text/plain": [
       "'Innomatics'"
      ]
     },
     "execution_count": 117,
     "metadata": {},
     "output_type": "execute_result"
    }
   ],
   "source": [
    "word"
   ]
  },
  {
   "cell_type": "code",
   "execution_count": 118,
   "id": "ea48b9e6",
   "metadata": {},
   "outputs": [
    {
     "data": {
      "text/plain": [
       "2"
      ]
     },
     "execution_count": 118,
     "metadata": {},
     "output_type": "execute_result"
    }
   ],
   "source": [
    "#count \n",
    "word.count('n')"
   ]
  },
  {
   "cell_type": "code",
   "execution_count": 122,
   "id": "bf62973c",
   "metadata": {},
   "outputs": [
    {
     "data": {
      "text/plain": [
       "False"
      ]
     },
     "execution_count": 122,
     "metadata": {},
     "output_type": "execute_result"
    }
   ],
   "source": [
    "#endswith(return true or false)\n",
    "word.endswith('a')"
   ]
  },
  {
   "cell_type": "code",
   "execution_count": 123,
   "id": "ea9224f7",
   "metadata": {},
   "outputs": [
    {
     "data": {
      "text/plain": [
       "True"
      ]
     },
     "execution_count": 123,
     "metadata": {},
     "output_type": "execute_result"
    }
   ],
   "source": [
    "word.endswith('s')"
   ]
  },
  {
   "cell_type": "code",
   "execution_count": 124,
   "id": "4b3ee574",
   "metadata": {},
   "outputs": [
    {
     "data": {
      "text/plain": [
       "True"
      ]
     },
     "execution_count": 124,
     "metadata": {},
     "output_type": "execute_result"
    }
   ],
   "source": [
    "word.endswith('cs')"
   ]
  },
  {
   "cell_type": "code",
   "execution_count": 127,
   "id": "d714c002",
   "metadata": {},
   "outputs": [
    {
     "data": {
      "text/plain": [
       "False"
      ]
     },
     "execution_count": 127,
     "metadata": {},
     "output_type": "execute_result"
    }
   ],
   "source": [
    "word.endswith('CS')   \n"
   ]
  },
  {
   "cell_type": "code",
   "execution_count": 128,
   "id": "e0f5f690",
   "metadata": {},
   "outputs": [
    {
     "data": {
      "text/plain": [
       "False"
      ]
     },
     "execution_count": 128,
     "metadata": {},
     "output_type": "execute_result"
    }
   ],
   "source": [
    "#isdigit,isalpha,isnum\n",
    "word.isdigit()   # true -> only when all are digit"
   ]
  },
  {
   "cell_type": "code",
   "execution_count": 132,
   "id": "2739ccfd",
   "metadata": {},
   "outputs": [
    {
     "data": {
      "text/plain": [
       "True"
      ]
     },
     "execution_count": 132,
     "metadata": {},
     "output_type": "execute_result"
    }
   ],
   "source": [
    "a = '12344'\n",
    "a.isdigit()"
   ]
  },
  {
   "cell_type": "code",
   "execution_count": 129,
   "id": "c7820e71",
   "metadata": {},
   "outputs": [
    {
     "data": {
      "text/plain": [
       "True"
      ]
     },
     "execution_count": 129,
     "metadata": {},
     "output_type": "execute_result"
    }
   ],
   "source": [
    "word.isalnum()"
   ]
  },
  {
   "cell_type": "code",
   "execution_count": 130,
   "id": "e0a03b0c",
   "metadata": {},
   "outputs": [
    {
     "data": {
      "text/plain": [
       "True"
      ]
     },
     "execution_count": 130,
     "metadata": {},
     "output_type": "execute_result"
    }
   ],
   "source": [
    "word.isalpha()"
   ]
  },
  {
   "cell_type": "code",
   "execution_count": 135,
   "id": "4d30f4e1",
   "metadata": {},
   "outputs": [
    {
     "data": {
      "text/plain": [
       "True"
      ]
     },
     "execution_count": 135,
     "metadata": {},
     "output_type": "execute_result"
    }
   ],
   "source": [
    "x = 'xyg134'\n",
    "x.isalnum()"
   ]
  },
  {
   "cell_type": "code",
   "execution_count": 136,
   "id": "7585e991",
   "metadata": {},
   "outputs": [
    {
     "data": {
      "text/plain": [
       "False"
      ]
     },
     "execution_count": 136,
     "metadata": {},
     "output_type": "execute_result"
    }
   ],
   "source": [
    "x.isdigit()"
   ]
  },
  {
   "cell_type": "code",
   "execution_count": 133,
   "id": "c5f389c3",
   "metadata": {},
   "outputs": [
    {
     "data": {
      "text/plain": [
       "False"
      ]
     },
     "execution_count": 133,
     "metadata": {},
     "output_type": "execute_result"
    }
   ],
   "source": [
    "#startswith\n",
    "word.startswith('a')"
   ]
  },
  {
   "cell_type": "code",
   "execution_count": 134,
   "id": "d6bac0b6",
   "metadata": {},
   "outputs": [
    {
     "data": {
      "text/plain": [
       "True"
      ]
     },
     "execution_count": 134,
     "metadata": {},
     "output_type": "execute_result"
    }
   ],
   "source": [
    "word.startswith('I')"
   ]
  },
  {
   "cell_type": "raw",
   "id": "5c4c21f9",
   "metadata": {},
   "source": [
    "#find -> finds the index of a letter (similar to index) but find will return if there is no text present and index will return error "
   ]
  },
  {
   "cell_type": "code",
   "execution_count": 137,
   "id": "d458827b",
   "metadata": {},
   "outputs": [
    {
     "data": {
      "text/plain": [
       "3"
      ]
     },
     "execution_count": 137,
     "metadata": {},
     "output_type": "execute_result"
    }
   ],
   "source": [
    "word.find('o')  #it will return index"
   ]
  },
  {
   "cell_type": "code",
   "execution_count": 138,
   "id": "5e31590e",
   "metadata": {},
   "outputs": [
    {
     "data": {
      "text/plain": [
       "-1"
      ]
     },
     "execution_count": 138,
     "metadata": {},
     "output_type": "execute_result"
    }
   ],
   "source": [
    "word.find('z')  # why? : "
   ]
  },
  {
   "cell_type": "raw",
   "id": "9b2a3cd4",
   "metadata": {},
   "source": [
    "df  bw find and index\n",
    "find() : Returns -1 if the substring is not found.\n",
    "index():  Raises a ValueError if the substring is not found.\n",
    "\n",
    "    ✅ Summary\n",
    "Method\tReturns index if found\tIf not found\tWhen to use\n",
    "find()\t✅\tReturns -1\tWhen substring might be missing\n",
    "index()\t✅\tRaises ValueError\tWhen substring must be present\n"
   ]
  },
  {
   "cell_type": "code",
   "execution_count": null,
   "id": "89c0e876",
   "metadata": {},
   "outputs": [],
   "source": [
    "#split "
   ]
  },
  {
   "cell_type": "code",
   "execution_count": 140,
   "id": "10e34cfb",
   "metadata": {},
   "outputs": [
    {
     "data": {
      "text/plain": [
       "['Innomatics', 'Research', 'Lab']"
      ]
     },
     "execution_count": 140,
     "metadata": {},
     "output_type": "execute_result"
    }
   ],
   "source": [
    "word_2.split()"
   ]
  },
  {
   "cell_type": "code",
   "execution_count": 141,
   "id": "cda1e7a7",
   "metadata": {},
   "outputs": [
    {
     "data": {
      "text/plain": [
       "['Innomatics']"
      ]
     },
     "execution_count": 141,
     "metadata": {},
     "output_type": "execute_result"
    }
   ],
   "source": [
    "word.split()"
   ]
  },
  {
   "cell_type": "code",
   "execution_count": 145,
   "id": "41fcb51d",
   "metadata": {},
   "outputs": [
    {
     "data": {
      "text/plain": [
       "['inno', 'resarch', 'lab']"
      ]
     },
     "execution_count": 145,
     "metadata": {},
     "output_type": "execute_result"
    }
   ],
   "source": [
    "xyz = \"inno%resarch%lab\"\n",
    "xyz.split(\"%\")"
   ]
  },
  {
   "cell_type": "code",
   "execution_count": 146,
   "id": "58c751db",
   "metadata": {},
   "outputs": [
    {
     "data": {
      "text/plain": [
       "['priya']"
      ]
     },
     "execution_count": 146,
     "metadata": {},
     "output_type": "execute_result"
    }
   ],
   "source": [
    "x = \"priya\"\n",
    "x.split()"
   ]
  },
  {
   "cell_type": "code",
   "execution_count": null,
   "id": "c2cf24ac",
   "metadata": {},
   "outputs": [],
   "source": []
  },
  {
   "cell_type": "code",
   "execution_count": 2,
   "id": "7d285f2a",
   "metadata": {},
   "outputs": [
    {
     "data": {
      "text/plain": [
       "2"
      ]
     },
     "execution_count": 2,
     "metadata": {},
     "output_type": "execute_result"
    }
   ],
   "source": [
    "5//2"
   ]
  },
  {
   "cell_type": "code",
   "execution_count": 4,
   "id": "6152b3c5",
   "metadata": {},
   "outputs": [
    {
     "data": {
      "text/plain": [
       "16"
      ]
     },
     "execution_count": 4,
     "metadata": {},
     "output_type": "execute_result"
    }
   ],
   "source": [
    "a =(1+2)*3**2//2+3\n",
    "a"
   ]
  },
  {
   "cell_type": "code",
   "execution_count": 5,
   "id": "8f526276",
   "metadata": {},
   "outputs": [
    {
     "data": {
      "text/plain": [
       "0"
      ]
     },
     "execution_count": 5,
     "metadata": {},
     "output_type": "execute_result"
    }
   ],
   "source": [
    "5 and 0  #"
   ]
  },
  {
   "cell_type": "code",
   "execution_count": 6,
   "id": "9ffcb04b",
   "metadata": {},
   "outputs": [
    {
     "data": {
      "text/plain": [
       "False"
      ]
     },
     "execution_count": 6,
     "metadata": {},
     "output_type": "execute_result"
    }
   ],
   "source": [
    "bool(0)"
   ]
  },
  {
   "cell_type": "code",
   "execution_count": 7,
   "id": "f3f0fd96",
   "metadata": {},
   "outputs": [
    {
     "data": {
      "text/plain": [
       "True"
      ]
     },
     "execution_count": 7,
     "metadata": {},
     "output_type": "execute_result"
    }
   ],
   "source": [
    "bool(1)"
   ]
  },
  {
   "cell_type": "code",
   "execution_count": 8,
   "id": "f9f773a0",
   "metadata": {},
   "outputs": [
    {
     "data": {
      "text/plain": [
       "True"
      ]
     },
     "execution_count": 8,
     "metadata": {},
     "output_type": "execute_result"
    }
   ],
   "source": [
    "bool(-1882)"
   ]
  },
  {
   "cell_type": "code",
   "execution_count": 9,
   "id": "412ab235",
   "metadata": {},
   "outputs": [
    {
     "data": {
      "text/plain": [
       "False"
      ]
     },
     "execution_count": 9,
     "metadata": {},
     "output_type": "execute_result"
    }
   ],
   "source": [
    "bool(0.0)"
   ]
  },
  {
   "cell_type": "code",
   "execution_count": 10,
   "id": "6acf480c",
   "metadata": {},
   "outputs": [
    {
     "data": {
      "text/plain": [
       "True"
      ]
     },
     "execution_count": 10,
     "metadata": {},
     "output_type": "execute_result"
    }
   ],
   "source": [
    "bool(9.3)"
   ]
  },
  {
   "cell_type": "markdown",
   "id": "11455247",
   "metadata": {},
   "source": [
    "# Numerical Data type:\n",
    "1.int : 0 is always "
   ]
  },
  {
   "cell_type": "code",
   "execution_count": 2,
   "id": "6f3525fd",
   "metadata": {},
   "outputs": [
    {
     "name": "stdout",
     "output_type": "stream",
     "text": [
      "0\n"
     ]
    }
   ],
   "source": [
    "print(0 and 1)  #"
   ]
  },
  {
   "cell_type": "code",
   "execution_count": 14,
   "id": "11447a31",
   "metadata": {},
   "outputs": [
    {
     "name": "stdout",
     "output_type": "stream",
     "text": [
      "2.0\n"
     ]
    }
   ],
   "source": [
    "print(1 and 2.0) "
   ]
  },
  {
   "cell_type": "code",
   "execution_count": 15,
   "id": "f73d060d",
   "metadata": {},
   "outputs": [
    {
     "data": {
      "text/plain": [
       "True"
      ]
     },
     "execution_count": 15,
     "metadata": {},
     "output_type": "execute_result"
    }
   ],
   "source": [
    "bool(1)"
   ]
  },
  {
   "cell_type": "code",
   "execution_count": 16,
   "id": "0f6546a2",
   "metadata": {},
   "outputs": [
    {
     "data": {
      "text/plain": [
       "True"
      ]
     },
     "execution_count": 16,
     "metadata": {},
     "output_type": "execute_result"
    }
   ],
   "source": [
    "bool(2.0)"
   ]
  },
  {
   "cell_type": "code",
   "execution_count": 17,
   "id": "06ddb85b",
   "metadata": {},
   "outputs": [
    {
     "data": {
      "text/plain": [
       "True"
      ]
     },
     "execution_count": 17,
     "metadata": {},
     "output_type": "execute_result"
    }
   ],
   "source": [
    "0<=0  #either 0<0 or 0=0"
   ]
  },
  {
   "cell_type": "code",
   "execution_count": 19,
   "id": "61f8755d",
   "metadata": {},
   "outputs": [
    {
     "data": {
      "text/plain": [
       "True"
      ]
     },
     "execution_count": 19,
     "metadata": {},
     "output_type": "execute_result"
    }
   ],
   "source": [
    "'A'<'a'  # ASCII VALUES ------> A -Z ,(65 --- 90) ,,a - z(97,122)"
   ]
  },
  {
   "cell_type": "code",
   "execution_count": 20,
   "id": "12628e1a",
   "metadata": {},
   "outputs": [
    {
     "data": {
      "text/plain": [
       "65"
      ]
     },
     "execution_count": 20,
     "metadata": {},
     "output_type": "execute_result"
    }
   ],
   "source": [
    "ord(\"A\")"
   ]
  },
  {
   "cell_type": "code",
   "execution_count": 21,
   "id": "7e441a9c",
   "metadata": {},
   "outputs": [
    {
     "data": {
      "text/plain": [
       "90"
      ]
     },
     "execution_count": 21,
     "metadata": {},
     "output_type": "execute_result"
    }
   ],
   "source": [
    "ord('Z')"
   ]
  },
  {
   "cell_type": "code",
   "execution_count": 22,
   "id": "034e5bfa",
   "metadata": {},
   "outputs": [
    {
     "data": {
      "text/plain": [
       "97"
      ]
     },
     "execution_count": 22,
     "metadata": {},
     "output_type": "execute_result"
    }
   ],
   "source": [
    "ord('a')"
   ]
  },
  {
   "cell_type": "code",
   "execution_count": 23,
   "id": "bad33677",
   "metadata": {},
   "outputs": [
    {
     "data": {
      "text/plain": [
       "122"
      ]
     },
     "execution_count": 23,
     "metadata": {},
     "output_type": "execute_result"
    }
   ],
   "source": [
    "ord('z')"
   ]
  },
  {
   "cell_type": "code",
   "execution_count": 24,
   "id": "40eea57c",
   "metadata": {},
   "outputs": [
    {
     "data": {
      "text/plain": [
       "True"
      ]
     },
     "execution_count": 24,
     "metadata": {},
     "output_type": "execute_result"
    }
   ],
   "source": [
    "\"ABC\"<'ABc' #"
   ]
  },
  {
   "cell_type": "code",
   "execution_count": 25,
   "id": "a59261db",
   "metadata": {},
   "outputs": [
    {
     "data": {
      "text/plain": [
       "True"
      ]
     },
     "execution_count": 25,
     "metadata": {},
     "output_type": "execute_result"
    }
   ],
   "source": [
    "'at' in 'bat'"
   ]
  },
  {
   "cell_type": "code",
   "execution_count": 28,
   "id": "d98d7dde",
   "metadata": {},
   "outputs": [
    {
     "data": {
      "text/plain": [
       "2135802866256"
      ]
     },
     "execution_count": 28,
     "metadata": {},
     "output_type": "execute_result"
    }
   ],
   "source": [
    "a = 10\n",
    "id(a) #memory location"
   ]
  },
  {
   "cell_type": "code",
   "execution_count": 29,
   "id": "1ea0058a",
   "metadata": {},
   "outputs": [
    {
     "name": "stdout",
     "output_type": "stream",
     "text": [
      "10\n"
     ]
    }
   ],
   "source": [
    "print(a)"
   ]
  },
  {
   "cell_type": "raw",
   "id": "c60032b8",
   "metadata": {},
   "source": [
    "-5 to 256 ---> will share the same memory"
   ]
  },
  {
   "cell_type": "code",
   "execution_count": 30,
   "id": "2bff9ba6",
   "metadata": {},
   "outputs": [
    {
     "data": {
      "text/plain": [
       "'0b10'"
      ]
     },
     "execution_count": 30,
     "metadata": {},
     "output_type": "execute_result"
    }
   ],
   "source": [
    "bin(2)   # help to convert binary form"
   ]
  },
  {
   "cell_type": "code",
   "execution_count": 31,
   "id": "37afde79",
   "metadata": {},
   "outputs": [
    {
     "data": {
      "text/plain": [
       "'0b0'"
      ]
     },
     "execution_count": 31,
     "metadata": {},
     "output_type": "execute_result"
    }
   ],
   "source": [
    "bin(0) 11"
   ]
  },
  {
   "cell_type": "code",
   "execution_count": 32,
   "id": "2ede6964",
   "metadata": {},
   "outputs": [
    {
     "data": {
      "text/plain": [
       "11"
      ]
     },
     "execution_count": 32,
     "metadata": {},
     "output_type": "execute_result"
    }
   ],
   "source": [
    "27 & 11"
   ]
  },
  {
   "cell_type": "code",
   "execution_count": 33,
   "id": "449520a3",
   "metadata": {},
   "outputs": [
    {
     "data": {
      "text/plain": [
       "'0b1011'"
      ]
     },
     "execution_count": 33,
     "metadata": {},
     "output_type": "execute_result"
    }
   ],
   "source": [
    "bin(11) or bin(27)"
   ]
  },
  {
   "cell_type": "code",
   "execution_count": 34,
   "id": "850b3dc1",
   "metadata": {},
   "outputs": [
    {
     "data": {
      "text/plain": [
       "27"
      ]
     },
     "execution_count": 34,
     "metadata": {},
     "output_type": "execute_result"
    }
   ],
   "source": [
    "27 | 11"
   ]
  },
  {
   "cell_type": "code",
   "execution_count": 35,
   "id": "283e670a",
   "metadata": {},
   "outputs": [
    {
     "data": {
      "text/plain": [
       "-28"
      ]
     },
     "execution_count": 35,
     "metadata": {},
     "output_type": "execute_result"
    }
   ],
   "source": [
    "~(27)  -->  \n",
    "#~(num) = -(num + 1)"
   ]
  },
  {
   "cell_type": "code",
   "execution_count": 36,
   "id": "a6c4f063",
   "metadata": {},
   "outputs": [
    {
     "data": {
      "text/plain": [
       "15"
      ]
     },
     "execution_count": 36,
     "metadata": {},
     "output_type": "execute_result"
    }
   ],
   "source": [
    "~(-16)"
   ]
  },
  {
   "cell_type": "code",
   "execution_count": 37,
   "id": "3a9e2d37",
   "metadata": {},
   "outputs": [
    {
     "data": {
      "text/plain": [
       "64"
      ]
     },
     "execution_count": 37,
     "metadata": {},
     "output_type": "execute_result"
    }
   ],
   "source": [
    "16<<2  #(num)*2**(num of specified bit)  16*2**2"
   ]
  },
  {
   "cell_type": "code",
   "execution_count": 38,
   "id": "4a35458d",
   "metadata": {},
   "outputs": [
    {
     "data": {
      "text/plain": [
       "48"
      ]
     },
     "execution_count": 38,
     "metadata": {},
     "output_type": "execute_result"
    }
   ],
   "source": [
    "12<<2"
   ]
  },
  {
   "cell_type": "code",
   "execution_count": 39,
   "id": "4bb42d0a",
   "metadata": {},
   "outputs": [
    {
     "data": {
      "text/plain": [
       "4"
      ]
     },
     "execution_count": 39,
     "metadata": {},
     "output_type": "execute_result"
    }
   ],
   "source": [
    "16>>2  #"
   ]
  },
  {
   "cell_type": "code",
   "execution_count": 40,
   "id": "e0b008a5",
   "metadata": {},
   "outputs": [
    {
     "data": {
      "text/plain": [
       "3"
      ]
     },
     "execution_count": 40,
     "metadata": {},
     "output_type": "execute_result"
    }
   ],
   "source": [
    "27>>3"
   ]
  },
  {
   "cell_type": "code",
   "execution_count": 41,
   "id": "b05eb42d",
   "metadata": {},
   "outputs": [
    {
     "data": {
      "text/plain": [
       "3"
      ]
     },
     "execution_count": 41,
     "metadata": {},
     "output_type": "execute_result"
    }
   ],
   "source": [
    "12>>2"
   ]
  },
  {
   "cell_type": "code",
   "execution_count": null,
   "id": "bd493977",
   "metadata": {},
   "outputs": [],
   "source": [
    "method :\n",
    "function : \n",
    "    "
   ]
  },
  {
   "cell_type": "code",
   "execution_count": null,
   "id": "9bb68613",
   "metadata": {},
   "outputs": [],
   "source": []
  },
  {
   "cell_type": "code",
   "execution_count": null,
   "id": "b61cb386",
   "metadata": {},
   "outputs": [],
   "source": []
  }
 ],
 "metadata": {
  "kernelspec": {
   "display_name": "Python 3 (ipykernel)",
   "language": "python",
   "name": "python3"
  },
  "language_info": {
   "codemirror_mode": {
    "name": "ipython",
    "version": 3
   },
   "file_extension": ".py",
   "mimetype": "text/x-python",
   "name": "python",
   "nbconvert_exporter": "python",
   "pygments_lexer": "ipython3",
   "version": "3.9.12"
  }
 },
 "nbformat": 4,
 "nbformat_minor": 5
}
